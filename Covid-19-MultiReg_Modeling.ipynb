{
 "cells": [
  {
   "cell_type": "code",
   "execution_count": 1,
   "metadata": {},
   "outputs": [
    {
     "name": "stdout",
     "output_type": "stream",
     "text": [
      "Cuda is available: True\n"
     ]
    }
   ],
   "source": [
    "import pandas as pd\n",
    "import matplotlib.pyplot as plt\n",
    "from sklearn.model_selection import train_test_split\n",
    "from sklearn.preprocessing import StandardScaler\n",
    "from sklearn.metrics import mean_absolute_error\n",
    "from xgboost import XGBRegressor\n",
    "from hyperopt import fmin, tpe, hp, STATUS_OK, Trials\n",
    "from hyperopt.pyll.base import scope\n",
    "import tqdm\n",
    "import warnings\n",
    "warnings.filterwarnings(\"ignore\")\n",
    "\n",
    "%matplotlib inline\n",
    "\n",
    "# Path of the file to read.\n",
    "data_path = \"countries-aggregated_csv.csv\"\n",
    "# Reading the file\n",
    "data = pd.read_csv(data_path )\n",
    "\n",
    "\n",
    "# Checking if CUDA is available\n",
    "from numba import cuda\n",
    "print(f'Cuda is available: {cuda.is_available()}')"
   ]
  },
  {
   "cell_type": "markdown",
   "metadata": {},
   "source": [
    "## Simple Multi-Linear Regression modeling part\n",
    "\n",
    "### Note: Multi-Linear Regression is a poor model for this type of data and should not be used. The modelling is done for testing purposes only!\n",
    "\n",
    "Making target y and input X for the XGBRegressor model and then splitting X and y into validation and training data."
   ]
  },
  {
   "cell_type": "code",
   "execution_count": 2,
   "metadata": {},
   "outputs": [],
   "source": [
    "# Features\n",
    "features = ['Confirmed', 'Recovered']\n",
    "X = data[features]\n",
    "\n",
    "# Target\n",
    "y = data['Deaths']\n",
    "\n",
    "# Split into validation and training data\n",
    "train_X, val_X, train_y, val_y = train_test_split(X, y, test_size=0.3, random_state=1)\n",
    "\n",
    "# Preprocessing the training data.\n",
    "# Normalizing the independent variables with StandardScaler\n",
    "std_scaler = StandardScaler()\n",
    "train_X = std_scaler.fit_transform(train_X)\n",
    "val_X = std_scaler.transform(val_X)"
   ]
  },
  {
   "cell_type": "markdown",
   "metadata": {},
   "source": [
    "Search space for hyperparameters."
   ]
  },
  {
   "cell_type": "code",
   "execution_count": 6,
   "metadata": {},
   "outputs": [],
   "source": [
    "# Define the search space\n",
    "space = {\n",
    "    'device': 'cuda',\n",
    "    'n_estimators': scope.int(hp.quniform('n_estimators', 100, 1000, 1)),\n",
    "    'learning_rate': hp.uniform('learning_rate', 0.01, 0.3),\n",
    "    'max_depth': scope.int(hp.quniform('max_depth', 3, 18, 1)),\n",
    "    'min_child_weight': hp.quniform('min_child_weight', 0, 10, 1),\n",
    "    'gamma': hp.uniform('gamma', 1, 9),\n",
    "    \"reg_alpha\": hp.uniform(\"reg_alpha\", 0, 1),\n",
    "    \"reg_lambda\": hp.uniform(\"reg_lambda\", 0, 1),\n",
    "    \"random_state\": 1,\n",
    "    \"seed\": 0,\n",
    "    \"max_bin\": scope.int(hp.quniform(\"max_bin\", 100, 1000, 1)),\n",
    "    \"booster\": \"gbtree\",\n",
    "}"
   ]
  },
  {
   "cell_type": "markdown",
   "metadata": {},
   "source": [
    "Method that trains the model with the given parameters and calculates the MAE score and returns loss, status of the model."
   ]
  },
  {
   "cell_type": "code",
   "execution_count": 7,
   "metadata": {},
   "outputs": [],
   "source": [
    "def get_params(space):\n",
    "    # Inputing the parameters\n",
    "    model = XGBRegressor(**space)\n",
    "    \n",
    "    # Evaluation set\n",
    "    eval_set = [(train_X, train_y), (val_X, val_y)]\n",
    "\n",
    "    # Fit the model on the eval_set with early stopping\n",
    "    model.fit(train_X, train_y, eval_set=eval_set, eval_metric=\"mae\", early_stopping_rounds=50, verbose=False)\n",
    "\n",
    "    # Get model predictions\n",
    "    y_pred = model.predict(val_X)\n",
    "\n",
    "    # Calculate MAE\n",
    "    mae = mean_absolute_error(val_y, y_pred)\n",
    "    print(f\"MAE: {mae}\")\n",
    "\n",
    "    return {'loss': mae, 'status': STATUS_OK, 'model': model}"
   ]
  },
  {
   "cell_type": "markdown",
   "metadata": {},
   "source": [
    "Bayesian optimization algorithm to find the most optimized parameters for the model."
   ]
  },
  {
   "cell_type": "code",
   "execution_count": 8,
   "metadata": {},
   "outputs": [
    {
     "name": "stdout",
     "output_type": "stream",
     "text": [
      "MAE: 3411.577106928892                                \n",
      "MAE: 3188.518443178432                                                         \n",
      "MAE: 3320.3244841150727                                                        \n",
      "MAE: 3652.689435123587                                                         \n",
      "MAE: 3324.723851299129                                                         \n",
      "MAE: 3115.8185345857332                                                        \n",
      "MAE: 4237.489566906619                                                          \n",
      "MAE: 3846.94338688125                                                           \n",
      "MAE: 3187.9731151897395                                                         \n",
      "MAE: 3203.8986077600616                                                         \n",
      "MAE: 3757.568774166529                                                           \n",
      "MAE: 4163.246036211185                                                           \n",
      "MAE: 4193.306606853941                                                           \n",
      "MAE: 3629.1842946269194                                                          \n",
      "MAE: 3124.503459126166                                                           \n",
      "MAE: 3685.660365413052                                                           \n",
      "MAE: 3436.8969909748685                                                          \n",
      "MAE: 3326.5103778316484                                                          \n",
      "MAE: 4369.366295155565                                                           \n",
      "MAE: 3518.5915014093894                                                          \n",
      "MAE: 3058.8867003407513                                                          \n",
      "MAE: 3115.0430268439245                                                          \n",
      "MAE: 3077.2050892045354                                                          \n",
      "MAE: 3066.8175759113587                                                          \n",
      "MAE: 3253.7417068883265                                                          \n",
      "MAE: 3119.502670745839                                                           \n",
      "MAE: 3120.194988678482                                                           \n",
      "MAE: 3092.941000544143                                                           \n",
      "MAE: 3301.469642344435                                                           \n",
      "MAE: 3205.20642577264                                                            \n",
      "100%|██████████| 30/30 [03:24<00:00,  6.80s/trial, best loss: 3058.8867003407513]\n"
     ]
    }
   ],
   "source": [
    "trials = Trials()\n",
    "\n",
    "best_params = fmin(fn=get_params,\n",
    "                   space=space,\n",
    "                   algo=tpe.suggest,\n",
    "                   max_evals=30,\n",
    "                   trials=trials)"
   ]
  },
  {
   "cell_type": "markdown",
   "metadata": {},
   "source": [
    "Getting the best optimized model after 30 evaluations and printing the hyperparameters."
   ]
  },
  {
   "cell_type": "code",
   "execution_count": 9,
   "metadata": {},
   "outputs": [
    {
     "name": "stdout",
     "output_type": "stream",
     "text": [
      "The best hyperparameters are:\n",
      "{'gamma': 8.917089497424833, 'learning_rate': 0.2848103660125062, 'max_bin': 989.0, 'max_depth': 18.0, 'min_child_weight': 0.0, 'n_estimators': 968.0, 'reg_alpha': 0.5767327488979918, 'reg_lambda': 0.6201871247724405}\n",
      "\n",
      "The best optimized model:\n",
      "XGBRegressor(base_score=None, booster='gbtree', callbacks=None,\n",
      "             colsample_bylevel=None, colsample_bynode=None,\n",
      "             colsample_bytree=None, device='cuda', early_stopping_rounds=None,\n",
      "             enable_categorical=False, eval_metric=None, feature_types=None,\n",
      "             gamma=8.917089497424833, grow_policy=None, importance_type=None,\n",
      "             interaction_constraints=None, learning_rate=0.2848103660125062,\n",
      "             max_bin=989, max_cat_threshold=None, max_cat_to_onehot=None,\n",
      "             max_delta_step=None, max_depth=18, max_leaves=None,\n",
      "             min_child_weight=0.0, missing=nan, monotone_constraints=None,\n",
      "             multi_strategy=None, n_estimators=968, n_jobs=None,\n",
      "             num_parallel_tree=None, random_state=1, ...)\n"
     ]
    }
   ],
   "source": [
    "best_model = trials.best_trial['result']['model']\n",
    "print(\"The best hyperparameters are:\")\n",
    "print(best_params)\n",
    "print(\"\\nThe best optimized model:\")\n",
    "print(best_model)"
   ]
  },
  {
   "cell_type": "markdown",
   "metadata": {},
   "source": [
    "Testing how much better the optimized model is compared to the standard model."
   ]
  },
  {
   "cell_type": "code",
   "execution_count": 10,
   "metadata": {},
   "outputs": [
    {
     "name": "stdout",
     "output_type": "stream",
     "text": [
      "MAE_Best_Model: 3058.8867003407513\n",
      "MAE_Standard_Model: 3789.3386424433143\n",
      "MAE_Difference: 730.451942102563\n"
     ]
    }
   ],
   "source": [
    "# Testing the best model with the validation data\n",
    "best_model.fit(train_X, train_y, eval_set=[(train_X, train_y), (val_X, val_y)], eval_metric=[\"mae\"], early_stopping_rounds=50, verbose=False)\n",
    "y_pred_best = best_model.predict(val_X)\n",
    "mae = mean_absolute_error(val_y, y_pred_best)\n",
    "print(f\"MAE_Best_Model: {mae}\")\n",
    "\n",
    "# Testing the standard model with the validation data\n",
    "standard_model = XGBRegressor()\n",
    "standard_model.fit(train_X, train_y, eval_set=[(train_X, train_y), (val_X, val_y)], eval_metric=[\"mae\"], early_stopping_rounds=50, verbose=False)\n",
    "y_pred_std = standard_model.predict(val_X)\n",
    "mae_std = mean_absolute_error(val_y, y_pred_std)\n",
    "print(f\"MAE_Standard_Model: {mae_std}\")\n",
    "print(f\"MAE_Difference: {mae_std - mae}\")"
   ]
  },
  {
   "cell_type": "markdown",
   "metadata": {},
   "source": [
    "The **optimized model** seems to work much better than the **standard XGBRegressor model**, so HyperOpt optimization is good tool for this kind of modeling. We could probably get a much better MAE score, if we would evaluate for a longer time and do more finetuning, but it is not necessary for now.\n",
    "\n",
    "Let's check how the model performance looks."
   ]
  },
  {
   "cell_type": "code",
   "execution_count": 12,
   "metadata": {},
   "outputs": [
    {
     "data": {
      "image/png": "[encoded data removed]",
      "text/plain": [
       "<Figure size 1000x600 with 1 Axes>"
      ]
     },
     "metadata": {},
     "output_type": "display_data"
    }
   ],
   "source": [
    "results = best_model.evals_result()\n",
    "\n",
    "plt.figure(figsize=(10, 6))\n",
    "plt.plot(results['validation_0']['mae'], label='train')\n",
    "plt.plot(results['validation_1']['mae'], label='test')\n",
    "plt.xlabel('Epoch')\n",
    "plt.ylabel('Mean Absolute Error')\n",
    "plt.title('Linear Regression MAE')\n",
    "plt.legend()\n",
    "plt.show()"
   ]
  },
  {
   "cell_type": "markdown",
   "metadata": {},
   "source": [
    "Training **MAE** seems to decrease somewhere around 2000 and testing somewhere between 3000 - 3500, so model seems to undefit a little bit, because there probably is some noise in the data, which needs to be cleaned to prevent underfitting. We could also try using different linear regression models, but XGBoost seems to do a great job with HyperOpt optimisation, so it is not necessary.\n",
    "\n",
    "The problem with this type of modelling is that it forces all countries to fit into a simple linear regression model, which does not give us any realistic or useful information, because we cannot get meaningful continuous predictions for certain countries. Instead, we should try to classify the countries with the features **'Confirmed'**, **'Recovered'** and **'Deaths'** and perhaps add some other features to the dataset that might give us more information. On the other hand, we could try to clustering and do some cluster analysis about the countries."
   ]
  },
  {
   "cell_type": "markdown",
   "metadata": {},
   "source": [
    "| **Date** | **Version**| **Change Description** |\n",
    "| --- | --- | --- |\n",
    "| 12.8.2024 | 1.0.1 | Moved the Regression part to the separate file and used StandardScaler instead of RobustScaler in the Regression modeling|"
   ]
  }
 ],
 "metadata": {
  "kernelspec": {
   "display_name": ".venv",
   "language": "python",
   "name": "python3"
  },
  "language_info": {
   "codemirror_mode": {
    "name": "ipython",
    "version": 3
   },
   "file_extension": ".py",
   "mimetype": "text/x-python",
   "name": "python",
   "nbconvert_exporter": "python",
   "pygments_lexer": "ipython3",
   "version": "3.10.1"
  }
 },
 "nbformat": 4,
 "nbformat_minor": 2
}
