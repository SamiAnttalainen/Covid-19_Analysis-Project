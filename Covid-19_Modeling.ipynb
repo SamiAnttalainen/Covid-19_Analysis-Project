{
 "cells": [
  {
   "cell_type": "markdown",
   "metadata": {},
   "source": [
    "Importing dependencies and loading the dataset"
   ]
  },
  {
   "cell_type": "code",
   "execution_count": 12,
   "metadata": {},
   "outputs": [],
   "source": [
    "import pandas as pd\n",
    "import seaborn as sns\n",
    "import matplotlib.pyplot as plt\n",
    "from sklearn.model_selection import train_test_split\n",
    "from sklearn.preprocessing import StandardScaler, LabelEncoder\n",
    "from sklearn.compose import ColumnTransformer\n",
    "from sklearn.metrics import mean_absolute_error\n",
    "import xgboost as xgb\n",
    "from hyperopt import fmin, tpe, hp, STATUS_OK, Trials\n",
    "from hyperopt.pyll.base import scope\n",
    "import tqdm\n",
    "import warnings\n",
    "warnings.filterwarnings(\"ignore\")\n",
    "\n",
    "%matplotlib inline\n",
    "\n",
    "# Path of the file to read.\n",
    "data_path = \"countries-aggregated_csv.csv\"\n",
    "# Reading the file\n",
    "data = pd.read_csv(data_path )"
   ]
  },
  {
   "cell_type": "markdown",
   "metadata": {},
   "source": [
    "## Simple Multi-Linear Regression modeling"
   ]
  },
  {
   "cell_type": "markdown",
   "metadata": {},
   "source": [
    "Making target y and input X for the XGBRegressor model and then splitting X and y into validation and training data."
   ]
  },
  {
   "cell_type": "code",
   "execution_count": 16,
   "metadata": {},
   "outputs": [],
   "source": [
    "# Target\n",
    "y = data['Deaths']\n",
    "\n",
    "# Features\n",
    "features = ['Confirmed', 'Recovered']\n",
    "X = data[features]\n",
    "\n",
    "# Split into validation and training data\n",
    "train_X, val_X, train_y, val_y = train_test_split(X, y, test_size=0.3, random_state=1)\n",
    "\n",
    "# Defining the preprocessor\n",
    "preprocessor = ColumnTransformer(\n",
    "    transformers=[\n",
    "        ('num', StandardScaler(), features),\n",
    "    ])\n",
    "\n",
    "# Preprocessing the training data.\n",
    "train_X = preprocessor.fit_transform(train_X)\n",
    "val_X = preprocessor.transform(val_X)\n"
   ]
  },
  {
   "cell_type": "markdown",
   "metadata": {},
   "source": [
    "Search space for hyperparameters."
   ]
  },
  {
   "cell_type": "code",
   "execution_count": 13,
   "metadata": {},
   "outputs": [],
   "source": [
    "# Define the search space\n",
    "space = {\n",
    "    'n_estimators': scope.int(hp.quniform('n_estimators', 100, 1000, 1)),\n",
    "    'learning_rate': hp.uniform('learning_rate', 0.01, 0.3),\n",
    "    'max_depth': scope.int(hp.quniform('max_depth', 3, 18, 1)),\n",
    "    'min_child_weight': hp.quniform('min_child_weight', 0, 10, 1),\n",
    "    'gamma': hp.uniform('gamma', 1, 9),\n",
    "    \"reg_alpha\": hp.uniform(\"reg_alpha\", 0, 1),\n",
    "    \"reg_lambda\": hp.uniform(\"reg_lambda\", 0, 1),\n",
    "    \"random_state\": 1,\n",
    "    \"seed\": 0,\n",
    "    \"max_bin\": scope.int(hp.quniform(\"max_bin\", 100, 1000, 1)),\n",
    "    \"booster\": \"gbtree\",\n",
    "}"
   ]
  },
  {
   "cell_type": "markdown",
   "metadata": {},
   "source": [
    "Method that trains the model with the given parameters and calculates the MAE score and returns loss, status of the model.\n"
   ]
  },
  {
   "cell_type": "code",
   "execution_count": 14,
   "metadata": {},
   "outputs": [],
   "source": [
    "def get_params(space):\n",
    "    # Inputing the parameters\n",
    "    model = xgb.XGBRegressor(**space)\n",
    "    \n",
    "    # Evaluation set\n",
    "    eval_set = [(train_X, train_y), (val_X, val_y)]\n",
    "\n",
    "    # Fit the model on the eval_set with early stopping\n",
    "    model.fit(train_X, train_y, eval_set=eval_set, eval_metric=\"mae\", early_stopping_rounds=50, verbose=False)\n",
    "\n",
    "    # Get model predictions\n",
    "    y_pred = model.predict(val_X)\n",
    "\n",
    "    # Calculate MAE\n",
    "    mae = mean_absolute_error(val_y, y_pred)\n",
    "    print(f\"MAE: {mae}\")\n",
    "\n",
    "    return {'loss': mae, 'status': STATUS_OK, 'model': model}"
   ]
  },
  {
   "cell_type": "markdown",
   "metadata": {},
   "source": [
    "Bayesian optimization algorithm to find the most optimized parameters for the model."
   ]
  },
  {
   "cell_type": "code",
   "execution_count": 15,
   "metadata": {},
   "outputs": [
    {
     "name": "stdout",
     "output_type": "stream",
     "text": [
      "MAE: 146.09109136083902                               \n",
      "MAE: 84.73853860129421                                                          \n",
      "MAE: 77.43838327399514                                                          \n",
      "MAE: 97.39075355475067                                                         \n",
      "MAE: 488.92350552822666                                                        \n",
      "MAE: 80.25820110007845                                                         \n",
      "MAE: 97.96113248184805                                                         \n",
      "MAE: 160.2403378058738                                                         \n",
      "MAE: 472.0181773691171                                                         \n",
      "MAE: 66.33735187525747                                                         \n",
      "MAE: 112.57565502454374                                                         \n",
      "MAE: 80.95158551074188                                                          \n",
      "MAE: 94.63967556708155                                                          \n",
      "MAE: 81.7609806147603                                                           \n",
      "MAE: 762.3573305285399                                                          \n",
      "MAE: 129.34655342442068                                                         \n",
      "MAE: 476.0766753082206                                                          \n",
      "MAE: 112.75896905482357                                                         \n",
      "MAE: 78.93836424877205                                                          \n",
      "MAE: 90.45923289437428                                                          \n",
      "MAE: 71.61601932824337                                                          \n",
      "MAE: 77.26562848275866                                                          \n",
      "MAE: 86.10704744780574                                                          \n",
      "MAE: 72.04572721155145                                                          \n",
      "MAE: 71.92846113702576                                                          \n",
      "MAE: 543.3062010530153                                                          \n",
      "MAE: 76.24659264670096                                                          \n",
      "MAE: 67.66178947769386                                                          \n",
      "MAE: 65.02643490380201                                                          \n",
      "MAE: 67.62921018419951                                                          \n",
      "100%|██████████| 30/30 [18:52<00:00, 37.77s/trial, best loss: 65.02643490380201]\n"
     ]
    }
   ],
   "source": [
    "trials = Trials()\n",
    "\n",
    "best_params = fmin(fn=get_params,\n",
    "                   space=space,\n",
    "                   algo=tpe.suggest,\n",
    "                   max_evals=30,\n",
    "                   trials=trials)"
   ]
  },
  {
   "cell_type": "markdown",
   "metadata": {},
   "source": [
    "Inputing the algorithm results to define the XGBRegressor model."
   ]
  },
  {
   "cell_type": "code",
   "execution_count": 16,
   "metadata": {},
   "outputs": [
    {
     "name": "stdout",
     "output_type": "stream",
     "text": [
      "The best hyperparameters are:\n",
      "{'gamma': 4.1529192487015, 'learning_rate': 0.23356933588702536, 'max_bin': 345.0, 'max_depth': 14.0, 'min_child_weight': 0.0, 'n_estimators': 945.0, 'reg_alpha': 0.7955416040282769, 'reg_lambda': 0.21721771149866065}\n",
      "\n",
      "The best optimized model:\n",
      "XGBRegressor(base_score=None, booster='gbtree', callbacks=None,\n",
      "             colsample_bylevel=None, colsample_bynode=None,\n",
      "             colsample_bytree=None, early_stopping_rounds=None,\n",
      "             enable_categorical=False, eval_metric=None, feature_types=None,\n",
      "             gamma=4.1529192487015, gpu_id=None, grow_policy=None,\n",
      "             importance_type=None, interaction_constraints=None,\n",
      "             learning_rate=0.23356933588702536, max_bin=345,\n",
      "             max_cat_threshold=None, max_cat_to_onehot=None,\n",
      "             max_delta_step=None, max_depth=14, max_leaves=None,\n",
      "             min_child_weight=0.0, missing=nan, monotone_constraints=None,\n",
      "             n_estimators=945, n_jobs=None, num_parallel_tree=None,\n",
      "             predictor=None, random_state=1, ...)\n"
     ]
    }
   ],
   "source": [
    "xgb_best_model = trials.best_trial['result']['model']\n",
    "print(\"The best hyperparameters are:\")\n",
    "print(best_params)\n",
    "print(\"\\nThe best optimized model:\")\n",
    "print(xgb_best_model)"
   ]
  },
  {
   "cell_type": "markdown",
   "metadata": {},
   "source": [
    "Testing how much better the optimized model is compared to the standard model."
   ]
  },
  {
   "cell_type": "code",
   "execution_count": 17,
   "metadata": {},
   "outputs": [
    {
     "name": "stdout",
     "output_type": "stream",
     "text": [
      "MAE_Best_Model: 65.02643490380201\n",
      "MAE_Standard_Model: 488.9359605975645\n",
      "MAE_Difference: 423.9095256937625\n"
     ]
    }
   ],
   "source": [
    "# Testing the best model with the validation data\n",
    "xgb_best_model.fit(train_X, train_y, eval_set=[(train_X, train_y), (val_X, val_y)], eval_metric=[\"mae\"], early_stopping_rounds=50, verbose=False)\n",
    "xgb_best_model_pred = xgb_best_model.predict(val_X)\n",
    "xgb_best_model_mae = mean_absolute_error(val_y, xgb_best_model_pred)\n",
    "print(f\"MAE_Best_Model: {xgb_best_model_mae}\")\n",
    "\n",
    "# Testing the standard model with the validation data\n",
    "xgb_standart_model = xgb.XGBRegressor()\n",
    "xgb_standart_model.fit(train_X, train_y, eval_set=[(train_X, train_y), (val_X, val_y)], eval_metric=[\"mae\"], early_stopping_rounds=50, verbose=False)\n",
    "xgb_standart_model_pred = xgb_standart_model.predict(val_X)\n",
    "xgb_standart_model_mae = mean_absolute_error(val_y, xgb_standart_model_pred)\n",
    "print(f\"MAE_Standard_Model: {xgb_standart_model_mae}\")\n",
    "print(f\"MAE_Difference: {xgb_standart_model_mae - xgb_best_model_mae}\")"
   ]
  },
  {
   "cell_type": "markdown",
   "metadata": {},
   "source": [
    "Checking if the model underfits or overfits."
   ]
  },
  {
   "cell_type": "code",
   "execution_count": 26,
   "metadata": {},
   "outputs": [
    {
     "data": {
      "image/png": "[encoded data removed]",
      "text/plain": [
       "<Figure size 1200x800 with 1 Axes>"
      ]
     },
     "metadata": {},
     "output_type": "display_data"
    }
   ],
   "source": [
    "results = xgb_best_model.evals_result()\n",
    "\n",
    "plt.figure(figsize=(10, 6))\n",
    "plt.plot(results['validation_0']['mae'], label='train')\n",
    "plt.plot(results['validation_1']['mae'], label='test')\n",
    "plt.xlabel('Iteration')\n",
    "plt.ylabel('Mean Absolute Error')\n",
    "plt.legend()\n",
    "plt.show()"
   ]
  },
  {
   "cell_type": "markdown",
   "metadata": {},
   "source": [
    "The validation and training losses seem to decrease close to zero, so the model is learning and not underfitting on both training and test cases. The losses also do not start to increase at any point, so the model does not seem to be overfitting on both training and test cases. Both plots are almost identical, so the model seems to be predicting unknown target cases quite well. We could try using different linear regression models, but XGBoost seems to do a great job with HyperOpt optimisation, so this is not necessary."
   ]
  },
  {
   "cell_type": "markdown",
   "metadata": {},
   "source": [
    "The problem with this type of modelling is that it forces all countries to fit into a simple linear regression model, which does not give us realistic or useful information because we cannot get meaningful continuous predictions for certain countries. Instead, we should try to classify the countries with the features 'confirmed', 'recovered' and 'deaths' and perhaps add some other features to the dataset that might give us more information. On the other hand, we could try to use clustering and create new classes to which each country belongs."
   ]
  },
  {
   "cell_type": "markdown",
   "metadata": {},
   "source": [
    "## Classification"
   ]
  },
  {
   "cell_type": "markdown",
   "metadata": {},
   "source": [
    "Feature engineering"
   ]
  },
  {
   "cell_type": "code",
   "execution_count": null,
   "metadata": {},
   "outputs": [],
   "source": [
    "# Copying the data\n",
    "modified_data = data.copy()\n",
    "\n",
    "# Features\n",
    "features = ['Confirmed', 'Recovered', 'Deaths']\n",
    "X = modified_data[features].copy()\n",
    "\n",
    "# Target\n",
    "y = modified_data['Country'].copy()\n",
    "\n",
    "# Split into validation and training data\n",
    "train_X, val_X, train_y, val_y = train_test_split(X, y, test_size=0.3, random_state=1)\n",
    "\n",
    "# Preprocessing\n",
    "train_X = preprocessor.fit_transform(train_X)\n",
    "val_X = preprocessor.transform(val_X)\n",
    "\n"
   ]
  },
  {
   "cell_type": "markdown",
   "metadata": {},
   "source": [
    "## Change log\n",
    "\n",
    "| Date | Version | Change Description |\n",
    "| --- | --- | --- |\n",
    "| 29.5.2024 | 1.0.1 | Removed variance plot. Added more descriptions. Fixed preprocessing and removed country from the feature list |"
   ]
  }
 ],
 "metadata": {
  "kernelspec": {
   "display_name": "Python 3",
   "language": "python",
   "name": "python3"
  },
  "language_info": {
   "codemirror_mode": {
    "name": "ipython",
    "version": 3
   },
   "file_extension": ".py",
   "mimetype": "text/x-python",
   "name": "python",
   "nbconvert_exporter": "python",
   "pygments_lexer": "ipython3",
   "version": "3.10.1"
  },
  "orig_nbformat": 4
 },
 "nbformat": 4,
 "nbformat_minor": 2
}
