{
 "cells": [
  {
   "cell_type": "markdown",
   "metadata": {},
   "source": [
    "Importing dependencies and loading the dataset"
   ]
  },
  {
   "cell_type": "code",
   "execution_count": 17,
   "metadata": {},
   "outputs": [],
   "source": [
    "import pandas as pd\n",
    "import matplotlib.pyplot as plt\n",
    "from sklearn.model_selection import train_test_split\n",
    "from sklearn.preprocessing import StandardScaler, LabelEncoder\n",
    "from sklearn.pipeline import make_pipeline\n",
    "from sklearn.metrics import mean_absolute_error, accuracy_score, classification_report\n",
    "from xgboost import XGBClassifier, XGBRegressor\n",
    "from hyperopt import fmin, tpe, hp, STATUS_OK, Trials\n",
    "from hyperopt.pyll.base import scope\n",
    "import tqdm\n",
    "import warnings\n",
    "warnings.filterwarnings(\"ignore\")\n",
    "\n",
    "%matplotlib inline\n",
    "\n",
    "# Path of the file to read.\n",
    "data_path = \"countries-aggregated_csv.csv\"\n",
    "# Reading the file\n",
    "data = pd.read_csv(data_path )"
   ]
  },
  {
   "cell_type": "markdown",
   "metadata": {},
   "source": [
    "## Simple Multi-Linear Regression modeling part"
   ]
  },
  {
   "cell_type": "markdown",
   "metadata": {},
   "source": [
    "### Note: Multi-Linear Regression is a poor model for this type of data and should not be used. The modelling is done for testing purposes only!"
   ]
  },
  {
   "cell_type": "markdown",
   "metadata": {},
   "source": [
    "Making target y and input X for the XGBRegressor model and then splitting X and y into validation and training data."
   ]
  },
  {
   "cell_type": "code",
   "execution_count": 16,
   "metadata": {},
   "outputs": [],
   "source": [
    "# Features\n",
    "features = ['Confirmed', 'Recovered']\n",
    "X = data[features]\n",
    "\n",
    "# Target\n",
    "y = data['Deaths']\n",
    "\n",
    "# Split into validation and training data\n",
    "train_X, val_X, train_y, val_y = train_test_split(X, y, test_size=0.3, random_state=1)\n",
    "\n",
    "# Preprocessing the training data.\n",
    "# Normalizing the independent variables with StandardScaler\n",
    "std_scaler = StandardScaler()\n",
    "train_X = std_scaler.fit_transform(train_X)\n",
    "val_X = std_scaler.transform(val_X)"
   ]
  },
  {
   "cell_type": "markdown",
   "metadata": {},
   "source": [
    "Search space for hyperparameters."
   ]
  },
  {
   "cell_type": "code",
   "execution_count": 13,
   "metadata": {},
   "outputs": [],
   "source": [
    "# Define the search space\n",
    "space = {\n",
    "    'n_estimators': scope.int(hp.quniform('n_estimators', 100, 1000, 1)),\n",
    "    'learning_rate': hp.uniform('learning_rate', 0.01, 0.3),\n",
    "    'max_depth': scope.int(hp.quniform('max_depth', 3, 18, 1)),\n",
    "    'min_child_weight': hp.quniform('min_child_weight', 0, 10, 1),\n",
    "    'gamma': hp.uniform('gamma', 1, 9),\n",
    "    \"reg_alpha\": hp.uniform(\"reg_alpha\", 0, 1),\n",
    "    \"reg_lambda\": hp.uniform(\"reg_lambda\", 0, 1),\n",
    "    \"random_state\": 1,\n",
    "    \"seed\": 0,\n",
    "    \"max_bin\": scope.int(hp.quniform(\"max_bin\", 100, 1000, 1)),\n",
    "    \"booster\": \"gbtree\",\n",
    "}"
   ]
  },
  {
   "cell_type": "markdown",
   "metadata": {},
   "source": [
    "Method that trains the model with the given parameters and calculates the MAE score and returns loss, status of the model.\n"
   ]
  },
  {
   "cell_type": "code",
   "execution_count": 14,
   "metadata": {},
   "outputs": [],
   "source": [
    "def get_params(space):\n",
    "    # Inputing the parameters\n",
    "    model = XGBRegressor(**space)\n",
    "    \n",
    "    # Evaluation set\n",
    "    eval_set = [(train_X, train_y), (val_X, val_y)]\n",
    "\n",
    "    # Fit the model on the eval_set with early stopping\n",
    "    model.fit(train_X, train_y, eval_set=eval_set, eval_metric=\"mae\", early_stopping_rounds=50, verbose=False)\n",
    "\n",
    "    # Get model predictions\n",
    "    y_pred = model.predict(val_X)\n",
    "\n",
    "    # Calculate MAE\n",
    "    mae = mean_absolute_error(val_y, y_pred)\n",
    "    print(f\"MAE: {mae}\")\n",
    "\n",
    "    return {'loss': mae, 'status': STATUS_OK, 'model': model}"
   ]
  },
  {
   "cell_type": "markdown",
   "metadata": {},
   "source": [
    "Bayesian optimization algorithm to find the most optimized parameters for the model."
   ]
  },
  {
   "cell_type": "code",
   "execution_count": 15,
   "metadata": {},
   "outputs": [
    {
     "name": "stdout",
     "output_type": "stream",
     "text": [
      "MAE: 146.09109136083902                               \n",
      "MAE: 84.73853860129421                                                          \n",
      "MAE: 77.43838327399514                                                          \n",
      "MAE: 97.39075355475067                                                         \n",
      "MAE: 488.92350552822666                                                        \n",
      "MAE: 80.25820110007845                                                         \n",
      "MAE: 97.96113248184805                                                         \n",
      "MAE: 160.2403378058738                                                         \n",
      "MAE: 472.0181773691171                                                         \n",
      "MAE: 66.33735187525747                                                         \n",
      "MAE: 112.57565502454374                                                         \n",
      "MAE: 80.95158551074188                                                          \n",
      "MAE: 94.63967556708155                                                          \n",
      "MAE: 81.7609806147603                                                           \n",
      "MAE: 762.3573305285399                                                          \n",
      "MAE: 129.34655342442068                                                         \n",
      "MAE: 476.0766753082206                                                          \n",
      "MAE: 112.75896905482357                                                         \n",
      "MAE: 78.93836424877205                                                          \n",
      "MAE: 90.45923289437428                                                          \n",
      "MAE: 71.61601932824337                                                          \n",
      "MAE: 77.26562848275866                                                          \n",
      "MAE: 86.10704744780574                                                          \n",
      "MAE: 72.04572721155145                                                          \n",
      "MAE: 71.92846113702576                                                          \n",
      "MAE: 543.3062010530153                                                          \n",
      "MAE: 76.24659264670096                                                          \n",
      "MAE: 67.66178947769386                                                          \n",
      "MAE: 65.02643490380201                                                          \n",
      "MAE: 67.62921018419951                                                          \n",
      "100%|██████████| 30/30 [18:52<00:00, 37.77s/trial, best loss: 65.02643490380201]\n"
     ]
    }
   ],
   "source": [
    "trials = Trials()\n",
    "\n",
    "best_params = fmin(fn=get_params,\n",
    "                   space=space,\n",
    "                   algo=tpe.suggest,\n",
    "                   max_evals=30,\n",
    "                   trials=trials)"
   ]
  },
  {
   "cell_type": "markdown",
   "metadata": {},
   "source": [
    "Inputing the algorithm results to define the XGBRegressor model."
   ]
  },
  {
   "cell_type": "code",
   "execution_count": 16,
   "metadata": {},
   "outputs": [
    {
     "name": "stdout",
     "output_type": "stream",
     "text": [
      "The best hyperparameters are:\n",
      "{'gamma': 4.1529192487015, 'learning_rate': 0.23356933588702536, 'max_bin': 345.0, 'max_depth': 14.0, 'min_child_weight': 0.0, 'n_estimators': 945.0, 'reg_alpha': 0.7955416040282769, 'reg_lambda': 0.21721771149866065}\n",
      "\n",
      "The best optimized model:\n",
      "XGBRegressor(base_score=None, booster='gbtree', callbacks=None,\n",
      "             colsample_bylevel=None, colsample_bynode=None,\n",
      "             colsample_bytree=None, early_stopping_rounds=None,\n",
      "             enable_categorical=False, eval_metric=None, feature_types=None,\n",
      "             gamma=4.1529192487015, gpu_id=None, grow_policy=None,\n",
      "             importance_type=None, interaction_constraints=None,\n",
      "             learning_rate=0.23356933588702536, max_bin=345,\n",
      "             max_cat_threshold=None, max_cat_to_onehot=None,\n",
      "             max_delta_step=None, max_depth=14, max_leaves=None,\n",
      "             min_child_weight=0.0, missing=nan, monotone_constraints=None,\n",
      "             n_estimators=945, n_jobs=None, num_parallel_tree=None,\n",
      "             predictor=None, random_state=1, ...)\n"
     ]
    }
   ],
   "source": [
    "best_model = trials.best_trial['result']['model']\n",
    "print(\"The best hyperparameters are:\")\n",
    "print(best_params)\n",
    "print(\"\\nThe best optimized model:\")\n",
    "print(best_model)"
   ]
  },
  {
   "cell_type": "markdown",
   "metadata": {},
   "source": [
    "Testing how much better the optimized model is compared to the standard model."
   ]
  },
  {
   "cell_type": "code",
   "execution_count": 17,
   "metadata": {},
   "outputs": [
    {
     "name": "stdout",
     "output_type": "stream",
     "text": [
      "MAE_Best_Model: 65.02643490380201\n",
      "MAE_Standard_Model: 488.9359605975645\n",
      "MAE_Difference: 423.9095256937625\n"
     ]
    }
   ],
   "source": [
    "# Testing the best model with the validation data\n",
    "best_model.fit(train_X, train_y, eval_set=[(train_X, train_y), (val_X, val_y)], eval_metric=[\"mae\"], early_stopping_rounds=50, verbose=False)\n",
    "y_pred_best = best_model.predict(val_X)\n",
    "mae = mean_absolute_error(val_y, y_pred_best)\n",
    "print(f\"MAE_Best_Model: {mae}\")\n",
    "\n",
    "# Testing the standard model with the validation data\n",
    "standard_model = XGBRegressor()\n",
    "standard_model.fit(train_X, train_y, eval_set=[(train_X, train_y), (val_X, val_y)], eval_metric=[\"mae\"], early_stopping_rounds=50, verbose=False)\n",
    "y_pred_std = standard_model.predict(val_X)\n",
    "mae_std = mean_absolute_error(val_y, y_pred_std)\n",
    "print(f\"MAE_Standard_Model: {mae_std}\")\n",
    "print(f\"MAE_Difference: {mae_std - mae}\")"
   ]
  },
  {
   "cell_type": "markdown",
   "metadata": {},
   "source": [
    "Checking if the model underfits or overfits."
   ]
  },
  {
   "cell_type": "code",
   "execution_count": 26,
   "metadata": {},
   "outputs": [
    {
     "data": {
      "image/png": "[encoded data removed]",
      "text/plain": [
       "<Figure size 1200x800 with 1 Axes>"
      ]
     },
     "metadata": {},
     "output_type": "display_data"
    }
   ],
   "source": [
    "results = best_model.evals_result()\n",
    "\n",
    "plt.figure(figsize=(10, 6))\n",
    "plt.plot(results['validation_0']['mae'], label='train')\n",
    "plt.plot(results['validation_1']['mae'], label='test')\n",
    "plt.xlabel('Iteration')\n",
    "plt.ylabel('Mean Absolute Error')\n",
    "plt.legend()\n",
    "plt.show()"
   ]
  },
  {
   "cell_type": "markdown",
   "metadata": {},
   "source": [
    "The validation and training losses seem to decrease close to zero, so the model is learning and not underfitting on both training and test cases. The losses also do not start to increase at any point, so the model does not seem to be overfitting on both training and test cases. Both plots are almost identical, so the model seems to be predicting unknown target cases quite well. We could try using different linear regression models, but XGBoost seems to do a great job with HyperOpt optimisation, so this is not necessary."
   ]
  },
  {
   "cell_type": "markdown",
   "metadata": {},
   "source": [
    "The problem with this type of modelling is that it forces all countries to fit into a simple linear regression model, which does not give us realistic or useful information because we cannot get meaningful continuous predictions for certain countries. Instead, we should try to classify the countries with the features 'confirmed', 'recovered' and 'deaths' and perhaps add some other features to the dataset that might give us more information. On the other hand, we could try to use clustering and create new classes to which each country belongs."
   ]
  },
  {
   "cell_type": "markdown",
   "metadata": {},
   "source": [
    "## Classification part"
   ]
  },
  {
   "cell_type": "markdown",
   "metadata": {},
   "source": [
    "Feature engineering"
   ]
  },
  {
   "cell_type": "code",
   "execution_count": 30,
   "metadata": {},
   "outputs": [
    {
     "name": "stdout",
     "output_type": "stream",
     "text": [
      "Accuracy of the model is: 0.405443.\n"
     ]
    },
    {
     "data": {
      "image/png": "[encoded data removed]",
      "text/plain": [
       "<Figure size 900x500 with 1 Axes>"
      ]
     },
     "metadata": {},
     "output_type": "display_data"
    }
   ],
   "source": [
    "# Copying the data\n",
    "modified_data = data.copy()\n",
    "\n",
    "# Features\n",
    "features = ['Confirmed', 'Recovered', 'Deaths']\n",
    "target = 'Country'\n",
    "\n",
    "def train_test_generator(features, target, data, stratified=False):\n",
    "    # Features\n",
    "    X = data[features].copy()\n",
    "\n",
    "    # Target\n",
    "    y = data[target].copy()\n",
    "\n",
    "    # Split into validation and training data\n",
    "    if stratified:\n",
    "        train_X, val_X, train_y, val_y = train_test_split(X, y, test_size=0.3, random_state=42, stratify=y)\n",
    "    else:\n",
    "        train_X, val_X, train_y, val_y = train_test_split(X, y, test_size=0.3, random_state=42)\n",
    "    \n",
    "\n",
    "    # Preprocessing\n",
    "    std_scaler = StandardScaler()\n",
    "    train_X = std_scaler.fit_transform(train_X)\n",
    "    val_X = std_scaler.transform(val_X)\n",
    "\n",
    "    # Label encoding to change the target to numerical, so model can classify classes based on numbers\n",
    "    label_encoder = LabelEncoder()\n",
    "    train_y = label_encoder.fit_transform(train_y)\n",
    "    val_y = label_encoder.transform(val_y)\n",
    "\n",
    "    # Testing the model and getting the accuracy\n",
    "    test_model(train_X, train_y, val_X, val_y)\n",
    "\n",
    "    return None\n",
    "\n",
    "\n",
    "# Testing function\n",
    "def test_model(train_X, train_y, val_X, val_y):\n",
    "    model = XGBClassifier(\n",
    "        objective='multi:softmax',\n",
    "        num_class=195,\n",
    "        early_stopping_rounds=10,\n",
    "        eval_metric=['merror', 'mlogloss'],\n",
    "        seed=42\n",
    "        )\n",
    "    model.fit(train_X, train_y, eval_set=[(train_X, train_y), (val_X, val_y)], verbose=False)\n",
    "    y_pred = model.predict(val_X)\n",
    "    accuracy = accuracy_score(y_pred, val_y)\n",
    "    print(f'Accuracy of the model is: {accuracy:4f}.')\n",
    "\n",
    "    # Plotting the performance of the model\n",
    "    results = model.evals_result()\n",
    "    epochs = len(results['validation_0']['mlogloss'])\n",
    "    x_axis = range(0, epochs)\n",
    "\n",
    "    _, ax = plt.subplots(figsize = (9,5))\n",
    "    ax.plot(x_axis, results['validation_0']['mlogloss'], label='Train')\n",
    "    ax.plot(x_axis, results['validation_1']['mlogloss'], label='Test')\n",
    "    ax.legend()\n",
    "    plt.xlabel('epochs')\n",
    "    plt.ylabel('mlogloss')\n",
    "    plt.title('Log loss for multiclass dataset')\n",
    "    plt.show()\n",
    "\n",
    "    return None\n",
    "\n",
    "# Testing the model to see what is the starting accuracy\n",
    "train_test_generator(features, target, modified_data)"
   ]
  },
  {
   "cell_type": "markdown",
   "metadata": {},
   "source": [
    "The standard accuracy of the model is around **0.4**, which is expected because there are only a few features and 195 classes, which makes it hard for the model to classify correctly. We can also see from the performance plot, that the model starts to **overfit** after **3** epochs, which affects the accuracy. There might be unbalanced amount of classses, so let's stratify them and see if it improves the model accuracy."
   ]
  },
  {
   "cell_type": "code",
   "execution_count": 31,
   "metadata": {},
   "outputs": [
    {
     "name": "stdout",
     "output_type": "stream",
     "text": [
      "Accuracy of the model is: 0.724392.\n"
     ]
    },
    {
     "data": {
      "image/png": "[encoded data removed]",
      "text/plain": [
       "<Figure size 900x500 with 1 Axes>"
      ]
     },
     "metadata": {},
     "output_type": "display_data"
    }
   ],
   "source": [
    "train_test_generator(features, target, modified_data, True)"
   ]
  },
  {
   "cell_type": "markdown",
   "metadata": {},
   "source": [
    "The accuracy of the model improved a lot from 0.4 percent to 0.72 percent accuracy after we stratified the classes, so there was some balance issues with the data classes. We can also see that the model only overfits a bit at the start, but then starts to learn. The model seems to work well with the training data, but we can see from the testing data, that the model underfits a little bit. Let's see if adding more features will improve the accuracy of the model and help with the underfitting."
   ]
  },
  {
   "cell_type": "code",
   "execution_count": 6,
   "metadata": {},
   "outputs": [
    {
     "name": "stdout",
     "output_type": "stream",
     "text": [
      "Features: ['Confirmed', 'Recovered', 'Deaths', 'Death_Rate']\n",
      "Accuracy of the model is: 0.293984.\n",
      "\n",
      "\n",
      "Features: ['Confirmed', 'Recovered', 'Deaths', 'Recovery_Rate']\n",
      "Accuracy of the model is: 0.776919.\n",
      "\n",
      "\n",
      "Features: ['Confirmed', 'Recovered', 'Deaths', 'Death_Recovery_Ratio']\n",
      "Accuracy of the model is: 0.363356.\n",
      "\n",
      "\n",
      "Features: ['Confirmed', 'Recovered', 'Deaths', 'Death_Rate', 'Recovery_Rate']\n",
      "Accuracy of the model is: 0.344980.\n",
      "\n",
      "\n",
      "Features: ['Confirmed', 'Recovered', 'Deaths', 'Death_Rate', 'Death_Recovery_Ratio']\n",
      "Accuracy of the model is: 0.260156.\n",
      "\n",
      "\n",
      "Features: ['Confirmed', 'Recovered', 'Deaths', 'Recovery_Rate', 'Death_Recovery_Ratio']\n",
      "Accuracy of the model is: 0.346442.\n",
      "\n",
      "\n",
      "Features: ['Confirmed', 'Recovered', 'Deaths', 'Death_Rate', 'Recovery_Rate', 'Death_Recovery_Ratio']\n",
      "Accuracy of the model is: 0.343055.\n",
      "\n",
      "\n"
     ]
    }
   ],
   "source": [
    "# Function to add new features to the dataset\n",
    "def add_feature(data, feature1, feature2, new_feature):\n",
    "    data[new_feature] = (data[feature1]/data[feature2])*100\n",
    "    data[new_feature] = data[new_feature].fillna(data[new_feature].mean())\n",
    "    data[new_feature] = data[new_feature].replace([float('inf')], 0)\n",
    "    return data\n",
    "\n",
    "# Adding new features\n",
    "features_to_add = [\n",
    "    ('Deaths', 'Confirmed', 'Death_Rate'),\n",
    "    ('Recovered', 'Confirmed', 'Recovery_Rate'),\n",
    "    ('Deaths', 'Recovered', 'Death_Recovery_Ratio')    \n",
    "]\n",
    "\n",
    "# Copying the original data to a new variable\n",
    "mod_data = data.copy()\n",
    "\n",
    "for feature1, feature2, new_feature in features_to_add:\n",
    "    mod_data = add_feature(mod_data, feature1, feature2, new_feature)\n",
    "\n",
    "# Feature lists\n",
    "new_features = ['Death_Rate', 'Recovery_Rate', 'Death_Recovery_Ratio']\n",
    "base_features = ['Confirmed', 'Recovered', 'Deaths']\n",
    "\n",
    "from itertools import combinations\n",
    "# Feature combinations\n",
    "features = [base_features + list(comb) for i in range(1, len(new_features)+1) for comb in combinations(new_features, i)]\n",
    "\n",
    "# Testing the model with the new feature combinations\n",
    "for feature in features:\n",
    "    print(f\"Features: {feature}\")\n",
    "    train_test_generator(feature, target, mod_data)\n",
    "    print(\"\\n\")"
   ]
  },
  {
   "cell_type": "markdown",
   "metadata": {},
   "source": [
    "We can see from the results that **Recovery_Rate** doubled the accuracy of the model when compared to the standard feature model and **Death_Recovery_Ratio** increased the accuracy only slightly. Instead, **Death_rate** actually worsened the accuracy of the model and should not be used as a feature in the model. Also, when using all the added features together, the model accuracy improved only slightly. We can conclude from the results that we should only add **Recovery_Rate** as a feature to the model.\n",
    "\n",
    "Next, we can improve the model with hyperparameter tuning. We will use HyperOpt's TPE algorithm and try to improve the accuracy of the model. Let's start with defining **hyperparameter space** dictionary, **get_parameters** function and **loss_plot** function."
   ]
  },
  {
   "cell_type": "code",
   "execution_count": 9,
   "metadata": {},
   "outputs": [],
   "source": [
    "# Defining the search space. Resetting the space to the original space\n",
    "space = {\n",
    "    'n_estimators': scope.int(hp.quniform('n_estimators', 100, 1000, 100)),\n",
    "    'learning_rate': hp.uniform('learning_rate', 0.001, 0.2),\n",
    "    'max_depth': scope.int(hp.quniform('max_depth', 1, 10, 1)),\n",
    "    # 'min_child_weight': hp.quniform('min_child_weight', 0, 10, 1),\n",
    "    # 'gamma': hp.uniform('gamma', 1, 9),\n",
    "    # \"reg_alpha\": hp.uniform(\"reg_alpha\", 0, 1),\n",
    "    # \"reg_lambda\": hp.uniform(\"reg_lambda\", 0, 1),\n",
    "    # \"random_state\": 1,\n",
    "    # \"seed\": 0,\n",
    "    # \"max_bin\": scope.int(hp.quniform(\"max_bin\", 100, 1000, 1)),\n",
    "    # \"booster\": \"gbtree\",\n",
    "}\n",
    "\n",
    "# Function to get the parameters\n",
    "def get_parameters(space):\n",
    "    # Inputing the parameters\n",
    "    model = XGBClassifier(**space)\n",
    "    \n",
    "    # Evaluation set\n",
    "    eval_set = [(train_X, train_y), (val_X, val_y)]\n",
    "\n",
    "    # Fit the model on the eval_set with early stopping\n",
    "    model.fit(train_X, train_y, eval_set=eval_set, eval_metric=\"mlogloss\", early_stopping_rounds=50, verbose=False)\n",
    "\n",
    "    # Get model predictions\n",
    "    y_pred = model.predict(val_X)\n",
    "\n",
    "    # Calculate accuracy\n",
    "    accuracy = accuracy_score(y_pred, val_y)\n",
    "    print(f\"Accuracy: {accuracy}\")\n",
    "\n",
    "    return {'loss': -accuracy, 'status': STATUS_OK, 'model': model}\n",
    "\n",
    "# Loss plot function\n",
    "def plot_results(results):\n",
    "    plt.plot(results[\"validation_0\"][\"logloss\"], label=\"Train\")\n",
    "    plt.plot(results[\"validation_1\"][\"logloss\"], label=\"Test\")\n",
    "    plt.xlabel(\"Iteration\")\n",
    "    plt.ylabel(\"Logloss\")\n",
    "    plt.title(\"Logloss of the model over iterations\")\n",
    "    plt.legend()\n",
    "    plt.show()"
   ]
  },
  {
   "cell_type": "markdown",
   "metadata": {},
   "source": [
    "### Optimization\n"
   ]
  },
  {
   "cell_type": "code",
   "execution_count": 15,
   "metadata": {},
   "outputs": [],
   "source": [
    "modified_data = data.copy()\n",
    "modified_data = add_feature(modified_data, 'Confirmed', 'Recovered', 'Recovery_Rate')\n",
    "features = ['Confirmed', 'Recovered', 'Deaths', 'Recovery_Rate']\n",
    "target = 'Country'\n",
    "\n",
    "X = modified_data[features].copy()\n",
    "y = modified_data[target].copy()\n",
    "\n",
    "train_X, val_X, train_y, val_y = train_test_split(X, y, test_size=0.3, random_state=1)\n",
    "\n",
    "std_scaler = StandardScaler()\n",
    "train_X = std_scaler.fit_transform(train_X)\n",
    "val_X = std_scaler.transform(val_X)\n",
    "\n",
    "lbl_encoder = LabelEncoder()\n",
    "train_y = lbl_encoder.fit_transform(train_y)\n",
    "val_y = lbl_encoder.transform(val_y)"
   ]
  },
  {
   "cell_type": "code",
   "execution_count": 14,
   "metadata": {},
   "outputs": [
    {
     "name": "stdout",
     "output_type": "stream",
     "text": [
      "  0%|          | 0/5 [00:00<?, ?trial/s, best loss=?]"
     ]
    },
    {
     "name": "stdout",
     "output_type": "stream",
     "text": [
      "Accuracy: 0.5862044964153964                         \n",
      "Accuracy: 0.5306605415187583                                                     \n",
      "Accuracy: 0.5633511983480661                                                     \n",
      "Accuracy: 0.33860003248184495                                                    \n",
      "Accuracy: 0.6466903320108582                                                     \n",
      "100%|██████████| 5/5 [57:31<00:00, 690.22s/trial, best loss: -0.6466903320108582] \n"
     ]
    }
   ],
   "source": [
    "\n",
    "\n",
    "trials = Trials()\n",
    "\n",
    "optimized_parameters = fmin(\n",
    "    fn = get_parameters,\n",
    "    space = space,\n",
    "    algo = tpe.suggest,\n",
    "    max_evals = 5,\n",
    "    trials = trials\n",
    "    )"
   ]
  },
  {
   "cell_type": "markdown",
   "metadata": {},
   "source": [
    "## Change log\n",
    "\n",
    "| Date | Version | Change Description |\n",
    "| --- | --- | --- |\n",
    "| 29.5.2024 | 1.0.1 | Removed variance plot. Added more descriptions. Fixed preprocessing and removed country from the feature list. Added LabelEncoder |\n",
    "| 30.5.2024 | 1.0.2 | Classification part added. Feature engineering testing. Simplified variable names. Added helper functions for classification. |\n",
    "| 24.7.2024 | 1.0.3 | Added stratify option and added HyperOpt optimization |"
   ]
  }
 ],
 "metadata": {
  "kernelspec": {
   "display_name": "Python 3",
   "language": "python",
   "name": "python3"
  },
  "language_info": {
   "codemirror_mode": {
    "name": "ipython",
    "version": 3
   },
   "file_extension": ".py",
   "mimetype": "text/x-python",
   "name": "python",
   "nbconvert_exporter": "python",
   "pygments_lexer": "ipython3",
   "version": "3.10.1"
  },
  "orig_nbformat": 4
 },
 "nbformat": 4,
 "nbformat_minor": 2
}
