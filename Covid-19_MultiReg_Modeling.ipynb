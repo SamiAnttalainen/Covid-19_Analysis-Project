{
 "cells": [
  {
   "cell_type": "code",
   "execution_count": 1,
   "metadata": {},
   "outputs": [
    {
     "name": "stdout",
     "output_type": "stream",
     "text": [
      "Cuda is available: True\n"
     ]
    }
   ],
   "source": [
    "import pandas as pd\n",
    "import matplotlib.pyplot as plt\n",
    "from sklearn.model_selection import train_test_split\n",
    "from sklearn.preprocessing import StandardScaler\n",
    "from sklearn.metrics import mean_absolute_error\n",
    "from xgboost import XGBRegressor\n",
    "from hyperopt import fmin, tpe, hp, STATUS_OK, Trials\n",
    "from hyperopt.pyll.base import scope\n",
    "import tqdm\n",
    "import warnings\n",
    "warnings.filterwarnings(\"ignore\")\n",
    "\n",
    "%matplotlib inline\n",
    "\n",
    "# Path of the file to read.\n",
    "data_path = \"countries-aggregated_csv.csv\"\n",
    "# Reading the file\n",
    "data = pd.read_csv(data_path )\n",
    "\n",
    "\n",
    "# Checking if CUDA is available\n",
    "from numba import cuda\n",
    "print(f'Cuda is available: {cuda.is_available()}')"
   ]
  },
  {
   "cell_type": "markdown",
   "metadata": {},
   "source": [
    "## Multi-Linear Regression part\n",
    "\n",
    "### Note: Multi-Linear Regression is a poor model for this type of data and should not be used. The modelling is done for testing purposes only!\n",
    "\n",
    "Making target y and input X for the XGBRegressor model and then splitting X and y into validation and training data."
   ]
  },
  {
   "cell_type": "code",
   "execution_count": 2,
   "metadata": {},
   "outputs": [],
   "source": [
    "# Features\n",
    "features = ['Confirmed', 'Recovered']\n",
    "X = data[features]\n",
    "\n",
    "# Target\n",
    "y = data['Deaths']\n",
    "\n",
    "# Split into validation and training data\n",
    "train_X, val_X, train_y, val_y = train_test_split(X, y, test_size=0.3, random_state=1)\n",
    "\n",
    "# Preprocessing the training data.\n",
    "# Normalizing the independent variables with StandardScaler\n",
    "std_scaler = StandardScaler()\n",
    "train_X = std_scaler.fit_transform(train_X)\n",
    "val_X = std_scaler.transform(val_X)"
   ]
  },
  {
   "cell_type": "markdown",
   "metadata": {},
   "source": [
    "Search space for hyperparameters."
   ]
  },
  {
   "cell_type": "code",
   "execution_count": 3,
   "metadata": {},
   "outputs": [],
   "source": [
    "# Define the search space\n",
    "space = {\n",
    "    'device': 'cuda',\n",
    "    'n_estimators': scope.int(hp.quniform('n_estimators', 100, 1000, 1)),\n",
    "    'learning_rate': hp.uniform('learning_rate', 0.01, 0.3),\n",
    "    'max_depth': scope.int(hp.quniform('max_depth', 3, 18, 1)),\n",
    "    'min_child_weight': hp.quniform('min_child_weight', 0, 10, 1),\n",
    "    'gamma': hp.uniform('gamma', 1, 9),\n",
    "    \"reg_alpha\": hp.uniform(\"reg_alpha\", 0, 1),\n",
    "    \"reg_lambda\": hp.uniform(\"reg_lambda\", 0, 1),\n",
    "    \"random_state\": 1,\n",
    "    \"seed\": 0,\n",
    "    \"max_bin\": scope.int(hp.quniform(\"max_bin\", 100, 1000, 1)),\n",
    "    \"booster\": \"gbtree\",\n",
    "}"
   ]
  },
  {
   "cell_type": "markdown",
   "metadata": {},
   "source": [
    "Method that trains the model with the given parameters and calculates the MAE score and returns loss, status of the model."
   ]
  },
  {
   "cell_type": "code",
   "execution_count": 4,
   "metadata": {},
   "outputs": [],
   "source": [
    "def get_params(space):\n",
    "    # Inputing the parameters\n",
    "    model = XGBRegressor(**space)\n",
    "    \n",
    "    # Evaluation set\n",
    "    eval_set = [(train_X, train_y), (val_X, val_y)]\n",
    "\n",
    "    # Fit the model on the eval_set with early stopping\n",
    "    model.fit(train_X, train_y, eval_set=eval_set, eval_metric=\"mae\", early_stopping_rounds=50, verbose=False)\n",
    "\n",
    "    # Get model predictions\n",
    "    y_pred = model.predict(val_X)\n",
    "\n",
    "    # Calculate MAE\n",
    "    mae = mean_absolute_error(val_y, y_pred)\n",
    "    print(f\"MAE: {mae}\")\n",
    "\n",
    "    return {'loss': mae, 'status': STATUS_OK, 'model': model}"
   ]
  },
  {
   "cell_type": "markdown",
   "metadata": {},
   "source": [
    "Bayesian optimization algorithm to find the most optimized parameters for the model."
   ]
  },
  {
   "cell_type": "code",
   "execution_count": 5,
   "metadata": {},
   "outputs": [
    {
     "name": "stdout",
     "output_type": "stream",
     "text": [
      "MAE: 3471.058086130542                                \n",
      "MAE: 3696.638947152745                                                         \n",
      "MAE: 3660.766403399682                                                         \n",
      "MAE: 3317.5725654521866                                                        \n",
      "MAE: 3097.424759723618                                                          \n",
      "MAE: 4111.802028773985                                                          \n",
      "MAE: 3106.370420798495                                                         \n",
      "MAE: 3235.133944765094                                                         \n",
      "MAE: 3636.899731086757                                                         \n",
      "MAE: 3848.8435655223343                                                        \n",
      "MAE: 4405.982207183509                                                          \n",
      "MAE: 3719.6468612831272                                                         \n",
      "MAE: 3485.422969868829                                                          \n",
      "MAE: 3229.9913318607746                                                         \n",
      "MAE: 3690.072039219562                                                          \n",
      "MAE: 3223.833199914427                                                          \n",
      "MAE: 3426.695817026704                                                          \n",
      "MAE: 3392.5917821589296                                                         \n",
      "MAE: 3222.471037708848                                                          \n",
      "MAE: 3410.06726110754                                                           \n",
      "MAE: 3101.3794224000203                                                         \n",
      "MAE: 3109.387979709904                                                          \n",
      "MAE: 3128.937971004878                                                          \n",
      "MAE: 3248.940469712039                                                          \n",
      "MAE: 3343.655276088432                                                          \n",
      "MAE: 3267.3457163003577                                                         \n",
      "MAE: 3126.795871916853                                                          \n",
      "MAE: 3243.360394883711                                                          \n",
      "MAE: 3138.5830892663453                                                         \n",
      "MAE: 3129.900124534886                                                          \n",
      "100%|██████████| 30/30 [02:47<00:00,  5.59s/trial, best loss: 3097.424759723618]\n"
     ]
    }
   ],
   "source": [
    "trials = Trials()\n",
    "\n",
    "best_params = fmin(fn=get_params,\n",
    "                   space=space,\n",
    "                   algo=tpe.suggest,\n",
    "                   max_evals=30,\n",
    "                   trials=trials)"
   ]
  },
  {
   "cell_type": "markdown",
   "metadata": {},
   "source": [
    "Getting the optimized model and print the best hyperparameters of the model."
   ]
  },
  {
   "cell_type": "code",
   "execution_count": 6,
   "metadata": {},
   "outputs": [
    {
     "name": "stdout",
     "output_type": "stream",
     "text": [
      "The best hyperparameters are:\n",
      "{'gamma': 1.3150285506499744, 'learning_rate': 0.2780043261403726, 'max_bin': 998.0, 'max_depth': 10.0, 'min_child_weight': 1.0, 'n_estimators': 494.0, 'reg_alpha': 0.8323845974170743, 'reg_lambda': 0.06260407681784874}\n",
      "\n",
      "The best optimized model:\n",
      "XGBRegressor(base_score=None, booster='gbtree', callbacks=None,\n",
      "             colsample_bylevel=None, colsample_bynode=None,\n",
      "             colsample_bytree=None, device='cuda', early_stopping_rounds=None,\n",
      "             enable_categorical=False, eval_metric=None, feature_types=None,\n",
      "             gamma=1.3150285506499744, grow_policy=None, importance_type=None,\n",
      "             interaction_constraints=None, learning_rate=0.2780043261403726,\n",
      "             max_bin=998, max_cat_threshold=None, max_cat_to_onehot=None,\n",
      "             max_delta_step=None, max_depth=10, max_leaves=None,\n",
      "             min_child_weight=1.0, missing=nan, monotone_constraints=None,\n",
      "             multi_strategy=None, n_estimators=494, n_jobs=None,\n",
      "             num_parallel_tree=None, random_state=1, ...)\n"
     ]
    }
   ],
   "source": [
    "best_model = trials.best_trial['result']['model']\n",
    "print(\"The best hyperparameters are:\")\n",
    "print(best_params)\n",
    "print(\"\\nThe best optimized model:\")\n",
    "print(best_model)"
   ]
  },
  {
   "cell_type": "markdown",
   "metadata": {},
   "source": [
    "Testing how much better the optimized model is compared to the standard model."
   ]
  },
  {
   "cell_type": "code",
   "execution_count": 7,
   "metadata": {},
   "outputs": [
    {
     "name": "stdout",
     "output_type": "stream",
     "text": [
      "MAE_Best_Model: 3097.424759723618\n",
      "MAE_Standard_Model: 3789.3386424433143\n",
      "MAE_Difference: 691.9138827196962\n"
     ]
    }
   ],
   "source": [
    "# Testing the best model with the validation data\n",
    "best_model.fit(train_X, train_y, eval_set=[(train_X, train_y), (val_X, val_y)], eval_metric=[\"mae\"], early_stopping_rounds=50, verbose=False)\n",
    "y_pred_best = best_model.predict(val_X)\n",
    "mae = mean_absolute_error(val_y, y_pred_best)\n",
    "print(f\"MAE_Best_Model: {mae}\")\n",
    "\n",
    "# Testing the standard model with the validation data\n",
    "standard_model = XGBRegressor()\n",
    "standard_model.fit(train_X, train_y, eval_set=[(train_X, train_y), (val_X, val_y)], eval_metric=[\"mae\"], early_stopping_rounds=50, verbose=False)\n",
    "y_pred_std = standard_model.predict(val_X)\n",
    "mae_std = mean_absolute_error(val_y, y_pred_std)\n",
    "print(f\"MAE_Standard_Model: {mae_std}\")\n",
    "print(f\"MAE_Difference: {mae_std - mae}\")"
   ]
  },
  {
   "cell_type": "markdown",
   "metadata": {},
   "source": [
    "Plotting the model performance on the training and the test data."
   ]
  },
  {
   "cell_type": "code",
   "execution_count": 9,
   "metadata": {},
   "outputs": [
    {
     "data": {
      "image/png": "[encoded data removed]",
      "text/plain": [
       "<Figure size 1000x600 with 1 Axes>"
      ]
     },
     "metadata": {},
     "output_type": "display_data"
    }
   ],
   "source": [
    "results = best_model.evals_result()\n",
    "\n",
    "plt.figure(figsize=(10, 6))\n",
    "plt.plot(results['validation_0']['mae'], label='train')\n",
    "plt.plot(results['validation_1']['mae'], label='test')\n",
    "plt.xlabel('Epoch')\n",
    "plt.ylabel('Mean Absolute Error')\n",
    "plt.title('Liner regression MAE')\n",
    "plt.legend()\n",
    "plt.show()"
   ]
  },
  {
   "cell_type": "markdown",
   "metadata": {},
   "source": [
    "Training MAE seems to decrease somewhere around 2000 - 2500 and Testing MAE somewhere around 3000 - 3500, so there seems to some underfitting going on in the model performance. We could improve this with more features and hyperparameter tuning, but it is not necessary for now. We could also try using different linear regression models, but XGBoost seems to do a great job with HyperOpt optimisation, so this is not necessary.\n",
    "\n",
    "The problem with this type of modelling is that it forces all countries to fit into a simple linear regression model, which does not give us realistic or useful information because we cannot get meaningful continuous predictions for certain countries. Instead, we should try to classify the countries with the features 'confirmed', 'recovered' and 'deaths' and perhaps add some other features to the dataset that might give us more information. On the other hand, we could try to use clustering and create new classes to which each country belongs."
   ]
  },
  {
   "cell_type": "markdown",
   "metadata": {},
   "source": [
    "## Change log\n",
    "\n",
    "| Date | Version | Change description |\n",
    "| --- | --- | --- |\n",
    "| 12.8.2024 | 1.0.1 | Moved the regression part to the separate file |"
   ]
  }
 ],
 "metadata": {
  "kernelspec": {
   "display_name": ".venv",
   "language": "python",
   "name": "python3"
  },
  "language_info": {
   "codemirror_mode": {
    "name": "ipython",
    "version": 3
   },
   "file_extension": ".py",
   "mimetype": "text/x-python",
   "name": "python",
   "nbconvert_exporter": "python",
   "pygments_lexer": "ipython3",
   "version": "3.10.1"
  }
 },
 "nbformat": 4,
 "nbformat_minor": 2
}
